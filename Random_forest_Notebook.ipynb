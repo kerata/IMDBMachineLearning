{
 "cells": [
  {
   "cell_type": "markdown",
   "metadata": {},
   "source": [
    "# IMDB Point Prediction with Random Forests"
   ]
  },
  {
   "cell_type": "code",
   "execution_count": null,
   "metadata": {
    "collapsed": true
   },
   "outputs": [],
   "source": [
    "%matplotlib inline\n",
    "import numpy as np\n",
    "import pandas as pd\n",
    "import seaborn as sns\n",
    "import matplotlib.pyplot as plt\n",
    "from sklearn.cluster import KMeans\n",
    "from sklearn.model_selection import train_test_split\n",
    "\n",
    "sns.set(color_codes=True)\n",
    "sns.set(style=\"ticks\")\n",
    "\n",
    "data_frame_original = pd.read_csv(\"movie_metadata.csv\")\n",
    "#data_frame.loc[data_frame['imdb_score'] >= 7.5, 'imdb_score'].size / data_frame['imdb_score'].count()\n"
   ]
  },
  {
   "cell_type": "code",
   "execution_count": null,
   "metadata": {},
   "outputs": [],
   "source": [
    "imdb_score_limit = 7.5\n",
    "\n",
    "data_frame = data_frame_original.copy()\n",
    "data_frame = data_frame.drop('genres',axis=1);\n",
    "data_frame = data_frame.drop('plot_keywords',axis=1);\n",
    "data_frame = data_frame.drop('movie_imdb_link', axis=1)\n",
    "data_frame = data_frame.drop('movie_title',axis=1)\n",
    "#data_frame = data_frame.drop('movie_facebook_likes',axis=1)\n",
    "#data_frame.loc[data_frame['imdb_score'] < imdb_score_limit, 'imdb_score'] = 0\n",
    "#data_frame.loc[data_frame['imdb_score'] >= imdb_score_limit, 'imdb_score'] = 1\n",
    "data_frame\n"
   ]
  },
  {
   "cell_type": "code",
   "execution_count": null,
   "metadata": {
    "collapsed": true
   },
   "outputs": [],
   "source": [
    "\n",
    "from sklearn.preprocessing import MultiLabelBinarizer\n",
    "from sklearn.preprocessing import LabelEncoder\n",
    "\n",
    "for column_name in data_frame.columns:\n",
    "    le = LabelEncoder()\n",
    "    column = data_frame[column_name]\n",
    "    try:\n",
    "        if column_name == 'plot_keywords' or column_name == 'genres':\n",
    "            mlb = MultiLabelBinarizer()\n",
    "            keywords = list()\n",
    "            column.fillna('UNKNOWN')\n",
    "            column.apply(lambda x: keywords.append(x.split('|')) if x is not np.nan else keywords.append(['UNKNOWN']))\n",
    "            binarized = mlb.fit_transform(keywords)\n",
    "            plt.imshow(binarized)\n",
    "            class_values = pd.Series(list(binarized))\n",
    "            data_frame[column_name].update(class_values)\n",
    "\n",
    "        else:\n",
    "            normalized_column = column.fillna(0) if column.dtype.kind in 'biufc' else column.fillna('UNKNOWN')\n",
    "            class_values = normalized_column if column.dtype.kind in 'biufc' else pd.Series(list(le.fit_transform(normalized_column))) \n",
    "            data_frame[column_name].update(class_values)\n",
    "    except:\n",
    "        pass"
   ]
  },
  {
   "cell_type": "code",
   "execution_count": null,
   "metadata": {},
   "outputs": [],
   "source": [
    "# Figures for representing some features\n",
    "sns.set(font_scale = 2)\n",
    "g = sns.jointplot('gross', 'imdb_score', size=12, data=data_frame, kind=\"kde\", color=\"#10275F\")\n",
    "plt.subplots_adjust(top=0.55)\n",
    "g.fig.suptitle('KDE of Imdb_Score and Gross', size=20, weight='bold')\n",
    "sns.set(font_scale = 1)\n",
    "# This is different from the kaggle kernel result(as in shape)"
   ]
  },
  {
   "cell_type": "code",
   "execution_count": null,
   "metadata": {
    "scrolled": true
   },
   "outputs": [],
   "source": [
    "# Showing the pearson correlation of features\n",
    "with sns.plotting_context(font_scale=1.25):\n",
    "    f, ax = plt.subplots(figsize=(20, 20))\n",
    "    plt.title('Pearson Correlation of Movie Features', {'weight': 'bold', 'size': 20})\n",
    "    # plot_keywords features are encoded as array which requires more care to plot in this way\n",
    "    \n",
    "    sns.heatmap(data_frame.astype(float).corr(), linewidths=0.25, vmax=1.0, square=True, annot=True)"
   ]
  },
  {
   "cell_type": "markdown",
   "metadata": {},
   "source": [
    "Create training and test datasets with .75 probab."
   ]
  },
  {
   "cell_type": "code",
   "execution_count": null,
   "metadata": {
    "collapsed": true
   },
   "outputs": [],
   "source": [
    "\n",
    "# Load scikit's random forest classifier library\n",
    "from sklearn.ensemble import RandomForestClassifier\n",
    "\n",
    "data_frame_temp = data_frame.copy()\n",
    "class0 = data_frame_temp[data_frame_temp['imdb_score']==0]\n",
    "class1 = data_frame_temp[data_frame_temp['imdb_score']==1]\n",
    "train0, test0, ign1, ign2 = train_test_split(class0,class0['imdb_score'], test_size=0.4)\n",
    "train1, test1, ign1, ign2 = train_test_split(class1,class1['imdb_score'], test_size=0.4)\n",
    "train = pd.concat([train0,train1])\n",
    "test = pd.concat([test0,test1])"
   ]
  },
  {
   "cell_type": "markdown",
   "metadata": {},
   "source": [
    "Select features to use in the training, and the target class to predict"
   ]
  },
  {
   "cell_type": "code",
   "execution_count": null,
   "metadata": {
    "collapsed": true
   },
   "outputs": [],
   "source": [
    "## select the features\n",
    "features = data_frame.columns\n",
    "train_feat = features[features != 'imdb_score']\n",
    "train_results = train.imdb_score"
   ]
  },
  {
   "cell_type": "markdown",
   "metadata": {},
   "source": [
    "Fit the model to RandomForestClassifier with the training data\n",
    "\n",
    "Get the results of the model for the test class and give the precision"
   ]
  },
  {
   "cell_type": "code",
   "execution_count": null,
   "metadata": {
    "scrolled": true
   },
   "outputs": [],
   "source": [
    "#print(len(set(data_frame.actor_1_name)))\n",
    "clf = RandomForestClassifier(n_jobs=-1,bootstrap=True, n_estimators=25)\n",
    "\n",
    "clf.fit(train[train_feat], train_results);\n",
    "\n",
    "\n",
    "prediction = clf.predict(test[train_feat])\n",
    "\n",
    "\n",
    "result =  test.imdb_score - prediction\n",
    "\n",
    "#pd.crosstab(test['imdb_score'], prediction, rownames=['Actual Imbd >= 7.5'], colnames=['Predicted Imdb >= 7.5'])\n",
    "#list(zip(train[features], clf.feature_importances_))\n",
    "\n",
    "from sklearn.metrics import precision_score\n",
    "from sklearn.metrics import classification_report\n",
    "from sklearn.metrics import confusion_matrix\n",
    "from sklearn.metrics import accuracy_score\n",
    "\n",
    "\n",
    "print(classification_report(test.imdb_score,prediction))\n",
    "print(confusion_matrix(test.imdb_score,prediction))"
   ]
  },
  {
   "cell_type": "markdown",
   "metadata": {},
   "source": [
    "## Random Forest Regression"
   ]
  },
  {
   "cell_type": "code",
   "execution_count": null,
   "metadata": {
    "collapsed": true
   },
   "outputs": [],
   "source": [
    "# Load scikit's random forest classifier library\n",
    "from sklearn.ensemble import RandomForestRegressor\n",
    "\n",
    "data_frame_temp = data_frame.copy()\n",
    "train, test, ign1, ign2 = train_test_split(data_frame_temp,data_frame_temp['imdb_score'], test_size=0.25)"
   ]
  },
  {
   "cell_type": "markdown",
   "metadata": {},
   "source": [
    "Select features to use in the training, and the target class to predict"
   ]
  },
  {
   "cell_type": "code",
   "execution_count": null,
   "metadata": {
    "collapsed": true
   },
   "outputs": [],
   "source": [
    "## select the features\n",
    "features = data_frame.columns\n",
    "train_results = train.imdb_score"
   ]
  },
  {
   "cell_type": "markdown",
   "metadata": {},
   "source": [
    "Fit the model to RandomForestRegressor with the training data\n",
    "\n",
    "Get the results of the model for the test class and give the precision"
   ]
  },
  {
   "cell_type": "code",
   "execution_count": null,
   "metadata": {},
   "outputs": [],
   "source": [
    "#print(len(set(data_frame.actor_1_name)))\n",
    "clf = RandomForestRegressor(n_jobs=-1,bootstrap=True, n_estimators=25)\n",
    "\n",
    "clf.fit(train[train_feat], train_results);\n",
    "\n",
    "\n",
    "prediction = clf.predict(test[train_feat])\n",
    "\n",
    "print(prediction)\n",
    "result =  test.imdb_score - prediction\n",
    "\n",
    "#pd.crosstab(test['imdb_score'], prediction, rownames=['Actual Imbd >= 7.5'], colnames=['Predicted Imdb >= 7.5'])\n",
    "#list(zip(train[features], clf.feature_importances_))\n",
    "\n",
    "from sklearn.metrics import precision_score\n",
    "from sklearn.metrics import classification_report\n",
    "from sklearn.metrics import confusion_matrix\n",
    "from sklearn.metrics import mean_squared_error\n",
    "from sklearn.metrics import explained_variance_score\n",
    "\n",
    "print(mean_squared_error(test.imdb_score,prediction))\n",
    "print(explained_variance_score(test.imdb_score,prediction))"
   ]
  }
 ],
 "metadata": {
  "language_info": {
   "name": "python",
   "pygments_lexer": "ipython3"
  }
 },
 "nbformat": 4,
 "nbformat_minor": 2
}
