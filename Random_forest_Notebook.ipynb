{
 "cells": [
  {
   "cell_type": "markdown",
   "metadata": {},
   "source": [
    "# IMDB Point Prediction with Random Forests"
   ]
  },
  {
   "cell_type": "code",
   "execution_count": null,
   "metadata": {},
   "outputs": [],
   "source": [
    "%matplotlib inline\n",
    "import numpy as np\n",
    "import pandas as pd\n",
    "import seaborn as sns\n",
    "import matplotlib.pyplot as plt\n",
    "from sklearn.cluster import KMeans\n",
    "from sklearn.model_selection import train_test_split\n",
    "\n",
    "sns.set(color_codes=True)\n",
    "sns.set(style=\"ticks\")\n",
    "\n",
    "data_frame_original = pd.read_csv(\"movie_metadata.csv\")\n",
    "#data_frame.loc[data_frame['imdb_score'] >= 7.5, 'imdb_score'].size / data_frame['imdb_score'].count()\n"
   ]
  },
  {
   "cell_type": "code",
   "execution_count": null,
   "metadata": {},
   "outputs": [],
   "source": [
    "data_frame = data_frame_original.copy()\n",
    "data_frame = data_frame.drop('genres',axis=1);\n",
    "data_frame = data_frame.drop('plot_keywords',axis=1);\n",
    "data_frame = data_frame.drop('movie_imdb_link', axis=1)\n",
    "data_frame = data_frame.drop('movie_title',axis=1)\n",
    "data_frame.loc[data_frame['imdb_score'] < 7.5, 'imdb_score'] = 0\n",
    "data_frame.loc[data_frame['imdb_score'] >= 7.5, 'imdb_score'] = 1\n",
    "data_frame\n"
   ]
  },
  {
   "cell_type": "code",
   "execution_count": null,
   "metadata": {},
   "outputs": [],
   "source": [
    "\n",
    "from sklearn.preprocessing import MultiLabelBinarizer\n",
    "from sklearn.preprocessing import LabelEncoder\n",
    "\n",
    "for column_name in data_frame.columns:\n",
    "    le = LabelEncoder()\n",
    "    column = data_frame[column_name]\n",
    "    try:\n",
    "        if column_name == 'plot_keywords' or column_name == 'genres':\n",
    "            mlb = MultiLabelBinarizer()\n",
    "            keywords = list()\n",
    "            column.fillna('UNKNOWN')\n",
    "            column.apply(lambda x: keywords.append(x.split('|')) if x is not np.nan else keywords.append(['UNKNOWN']))\n",
    "            binarized = mlb.fit_transform(keywords)\n",
    "            plt.imshow(binarized)\n",
    "            class_values = pd.Series(list(binarized))\n",
    "            data_frame[column_name].update(class_values)\n",
    "\n",
    "        else:\n",
    "            normalized_column = column.fillna(0) if column.dtype.kind in 'biufc' else column.fillna('UNKNOWN')\n",
    "            class_values = normalized_column if column.dtype.kind in 'biufc' else pd.Series(list(le.fit_transform(normalized_column))) \n",
    "            data_frame[column_name].update(class_values)\n",
    "    except:\n",
    "        pass\n",
    "\n",
    "data_frame"
   ]
  },
  {
   "cell_type": "code",
   "execution_count": null,
   "metadata": {},
   "outputs": [],
   "source": [
    "# Figures for representing some features\n",
    "sns.set(font_scale = 2)\n",
    "g = sns.jointplot('gross', 'imdb_score', size=12, data=data_frame, kind=\"kde\", color=\"#10275F\")\n",
    "plt.subplots_adjust(top=0.55)\n",
    "g.fig.suptitle('KDE of Imdb_Score and Gross', size=20, weight='bold')\n",
    "sns.set(font_scale = 1)\n",
    "# This is different from the kaggle kernel result(as in shape)"
   ]
  },
  {
   "cell_type": "code",
   "execution_count": null,
   "metadata": {
    "scrolled": true
   },
   "outputs": [],
   "source": [
    "# Showing the pearson correlation of features\n",
    "with sns.plotting_context(font_scale=1.25):\n",
    "    f, ax = plt.subplots(figsize=(20, 20))\n",
    "    plt.title('Pearson Correlation of Movie Features', {'weight': 'bold', 'size': 20})\n",
    "    # plot_keywords features are encoded as array which requires more care to plot in this way\n",
    "    \n",
    "    sns.heatmap(data_frame.astype(float).corr(), linewidths=0.25, vmax=1.0, square=True, annot=True)"
   ]
  },
  {
   "cell_type": "markdown",
   "metadata": {},
   "source": [
    "Create training and test datasets with .75 probab."
   ]
  },
  {
   "cell_type": "code",
   "execution_count": null,
   "metadata": {},
   "outputs": [],
   "source": [
    "\n",
    "# Load scikit's random forest classifier library\n",
    "from sklearn.ensemble import RandomForestClassifier\n",
    "\n",
    "data_frame['is_train'] = np.random.uniform(0,1,len(data_frame)) <=0.75\n",
    "\n",
    "train,test = data_frame[data_frame['is_train'] == True],data_frame[data_frame['is_train'] == False]\n",
    "#print(len(train))\n",
    "#print(len(test))\n",
    "\n",
    "\n",
    "\n"
   ]
  },
  {
   "cell_type": "markdown",
   "metadata": {},
   "source": [
    "Select features to use in the training, and the target class to predict"
   ]
  },
  {
   "cell_type": "code",
   "execution_count": null,
   "metadata": {
    "collapsed": true
   },
   "outputs": [],
   "source": [
    "## select the features\n",
    "features = data_frame.columns\n",
    "train_feat = features[features != 'imdb_score']\n",
    "train_results = train.imdb_score"
   ]
  },
  {
   "cell_type": "markdown",
   "metadata": {},
   "source": [
    "Fit the model to RandomForestClassifier with the training data\n",
    "\n",
    "Get the results of the model for the test class and give the precision"
   ]
  },
  {
   "cell_type": "code",
   "execution_count": null,
   "metadata": {},
   "outputs": [],
   "source": [
    "print(len(set(data_frame.actor_1_name)))\n",
    "clf = RandomForestClassifier(n_jobs=-1,bootstrap=True, n_estimators=10)\n",
    "\n",
    "clf.fit(train[train_feat], train_results);\n",
    "\n",
    "\n",
    "prediction = clf.predict(test[train_feat])\n",
    "\n",
    "print(prediction)\n",
    "result =  test.imdb_score - prediction\n",
    "print(len(result[result !=0]) / len(result))\n",
    "pd.crosstab(test['imdb_score'], prediction, rownames=['Actual Imbd'], colnames=['Predicted Imdb'])\n",
    "list(zip(train[features], clf.feature_importances_))"
   ]
  }
 ],
 "metadata": {
  "language_info": {
   "name": "python",
   "pygments_lexer": "ipython3"
  }
 },
 "nbformat": 4,
 "nbformat_minor": 2
}
