{
 "cells": [
  {
   "cell_type": "markdown",
   "metadata": {},
   "source": [
    "# IMDB Movie Analysis"
   ]
  },
  {
   "cell_type": "code",
   "execution_count": 1,
   "metadata": {},
   "outputs": [],
   "source": [
    "%matplotlib inline\n",
    "import numpy as np\n",
    "import pandas as pd\n",
    "import seaborn as sns\n",
    "import matplotlib.pyplot as plt\n",
    "\n",
    "from sklearn.cluster import KMeans\n",
    "from sklearn.model_selection import train_test_split\n",
    "\n",
    "from sklearn.metrics import explained_variance_score\n",
    "from sklearn.metrics import mean_squared_error\n",
    "\n",
    "from sklearn.metrics import precision_score\n",
    "from sklearn.metrics import classification_report\n",
    "from sklearn.metrics import confusion_matrix\n",
    "from sklearn.metrics import accuracy_score\n",
    "\n",
    "sns.set(color_codes=True)\n",
    "sns.set(style=\"ticks\")\n",
    "\n",
    "data_frame_base = pd.read_csv(\"movie_metadata.csv\")\n",
    "data_frame_base = data_frame_base.drop('plot_keywords',1)\n",
    "data_frame_base = data_frame_base.drop('genres',1)\n",
    "data_frame_base = data_frame_base.drop('movie_imdb_link', 1)\n",
    "data_frame_base = data_frame_base.drop('movie_title',1)\n",
    "#data_frame_base.head()"
   ]
  },
  {
   "cell_type": "markdown",
   "metadata": {},
   "source": [
    "## Imdb Score Limit and Imdb Score Classes For Classification"
   ]
  },
  {
   "cell_type": "code",
   "execution_count": 2,
   "metadata": {
    "collapsed": true
   },
   "outputs": [],
   "source": [
    "imdb_score_limit = 7.5\n",
    "\n",
    "data_frame_base['imdb_score_class'] = data_frame_base['imdb_score'].copy()\n",
    "\n",
    "data_frame_base.loc[data_frame_base['imdb_score_class'] < imdb_score_limit, 'imdb_score_class'] = 0\n",
    "data_frame_base.loc[data_frame_base['imdb_score_class'] >= imdb_score_limit, 'imdb_score_class'] = 1\n"
   ]
  },
  {
   "cell_type": "markdown",
   "metadata": {},
   "source": [
    "## Preprocessing"
   ]
  },
  {
   "cell_type": "code",
   "execution_count": 3,
   "metadata": {},
   "outputs": [],
   "source": [
    "data_frame = data_frame_base.copy()\n",
    "\n",
    "from sklearn.preprocessing import MultiLabelBinarizer\n",
    "from sklearn.preprocessing import LabelEncoder\n",
    "from sklearn.preprocessing import MinMaxScaler\n",
    "\n",
    "\n",
    "for column_name in data_frame.columns:\n",
    "    if column_name == 'imdb_score': continue\n",
    "    if column_name == 'imdb_score_class': continue\n",
    "    \n",
    "    le = LabelEncoder()\n",
    "    mmscaler = MinMaxScaler()\n",
    "    \n",
    "    column = data_frame[column_name]\n",
    "    normalized_column = column.fillna(0) if column.dtype.kind in 'biufc' else column.fillna('UNKNOWN')\n",
    "    \n",
    "    if (column.dtype.kind in 'biufc'): \n",
    "        #normalized_column = normalized_column.astype(float)\n",
    "        #normalized_column = mmscaler.fit_transform(normalized_column.values.reshape(-1,1))\n",
    "        #class_values = pd.Series(list(mmscaler.fit_transform(normalized_column))) \n",
    "        #data_frame[column_name].update(class_values)\n",
    "        \n",
    "        class_values = normalized_column\n",
    "        data_frame[column_name].update(class_values)\n",
    "    else: \n",
    "        class_values = pd.Series(list(le.fit_transform(normalized_column))) \n",
    "        data_frame[column_name].update(class_values)\n",
    "\n",
    "        "
   ]
  },
  {
   "cell_type": "markdown",
   "metadata": {},
   "source": [
    "## Training and Test Sets"
   ]
  },
  {
   "cell_type": "code",
   "execution_count": 4,
   "metadata": {},
   "outputs": [],
   "source": [
    "train, test, ign1, ign2 = train_test_split(data_frame,data_frame['imdb_score'], test_size=0.25)"
   ]
  },
  {
   "cell_type": "markdown",
   "metadata": {},
   "source": [
    "-------------------------------------------------------------------"
   ]
  },
  {
   "cell_type": "markdown",
   "metadata": {},
   "source": [
    "#### DATA PREPARATION IS FINISHED\n",
    "#### APPLY ML METHODS\n",
    "----------------------------------------------------------------------"
   ]
  },
  {
   "cell_type": "markdown",
   "metadata": {},
   "source": [
    "------------------------------------------------------------------------------------"
   ]
  },
  {
   "cell_type": "markdown",
   "metadata": {},
   "source": [
    "## SVM Regression"
   ]
  },
  {
   "cell_type": "code",
   "execution_count": 5,
   "metadata": {},
   "outputs": [
    {
     "name": "stdout",
     "output_type": "stream",
     "text": [
      "Explained variance score : 0.0314563392027\n",
      "Mean squared error : 1.13979937293\n",
      "Prediction is in margin or not error : 0.312450436162\n"
     ]
    }
   ],
   "source": [
    "features_svr = data_frame.columns\n",
    "features_svr = features_svr[features_svr != 'imdb_score']\n",
    "features_svr = features_svr[features_svr != 'imdb_score_class']\n",
    "r_svr_feature = 'imdb_score'\n",
    "\n",
    "train_svr_A = np.array(train[features_svr])\n",
    "train_svr_R = np.array(train[r_svr_feature])\n",
    "test_svr_A = np.array(test[features_svr])\n",
    "test_svr_R = np.array(test[r_svr_feature])\n",
    "\n",
    "from sklearn.svm import SVR\n",
    "# for gamma values higher than 0.00001 gives bad results\n",
    "svr_func= SVR(kernel='rbf', C=1e4, gamma=0.00001, epsilon=0.0001)\n",
    "svr_func.fit(train_svr_A,train_svr_R)\n",
    "y_svr = svr_func.predict(test_svr_A)\n",
    "\n",
    "print(\"Explained variance score : \"+ str(explained_variance_score(test_svr_R, y_svr)))\n",
    "print(\"Mean squared error : \"+str(mean_squared_error(test_svr_R, y_svr)))\n",
    "\n",
    "margin = 1\n",
    "y_svr_margined = [(1 if np.abs(x-y) > margin else 0) for x,y in zip(test_svr_R, y_svr)]\n",
    "print(\"Prediction is in margin or not error : \"+ str(np.sum(y_svr_margined)/len(test_svr_R)))\n",
    "\n",
    "\n",
    "# SVM classification from regression result - it is almost identical with SVM classification\n",
    "#limit = 7.5\n",
    "#test_svr_R_limited = [(1 if x >= limit else 0) for x in test_svr_R]\n",
    "#y_svr_limited = [(1 if x >= limit else 0) for x in y_svr]\n",
    "#print(classification_report(test_svr_R_limited,y_svr_limited))\n",
    "#print(confusion_matrix(test_svr_R_limited,y_svr_limited))\n",
    "#print(accuracy_score(test_svr_R_limited,y_svr_limited))"
   ]
  },
  {
   "cell_type": "markdown",
   "metadata": {},
   "source": [
    "## SVM Classification"
   ]
  },
  {
   "cell_type": "code",
   "execution_count": 7,
   "metadata": {},
   "outputs": [
    {
     "name": "stdout",
     "output_type": "stream",
     "text": [
      "             precision    recall  f1-score   support\n",
      "\n",
      "        0.0       0.84      1.00      0.92      1058\n",
      "        1.0       1.00      0.04      0.08       203\n",
      "\n",
      "avg / total       0.87      0.85      0.78      1261\n",
      "\n",
      "[[1058    0]\n",
      " [ 195    8]]\n"
     ]
    }
   ],
   "source": [
    "features_svc = data_frame.columns\n",
    "features_svc = features_svc[features_svc != 'imdb_score']\n",
    "features_svc = features_svc[features_svc != 'imdb_score_class']\n",
    "r_svc_feature = 'imdb_score_class'\n",
    "\n",
    "train_svc_A = np.array(train[features_svc])\n",
    "train_svc_R = np.array(train[r_svc_feature])\n",
    "test_svc_A = np.array(test[features_svc])\n",
    "test_svc_R = np.array(test[r_svc_feature])\n",
    "\n",
    "from sklearn.svm import SVC\n",
    "# Do not increase gamma when minmaxscaler is used 0.00001 is the proper limit\n",
    "svc_func = SVC(kernel='rbf', C=10000, gamma=0.00001)\n",
    "svc_func.fit(train_svc_A,train_svc_R)\n",
    "y_svc = svc_func.predict(test_svc_A)\n",
    "\n",
    "#print(precision_score(test_svc_R,y_svc,average='weighted'))\n",
    "print(classification_report(test_svc_R,y_svc))\n",
    "print(confusion_matrix(test_svc_R,y_svc))\n",
    "#print(accuracy_score(test_svc_R,y_svc))\n"
   ]
  }
 ],
 "metadata": {
  "kernelspec": {
   "display_name": "Python 3",
   "language": "python",
   "name": "python3"
  },
  "language_info": {
   "codemirror_mode": {
    "name": "ipython",
    "version": 3
   },
   "file_extension": ".py",
   "mimetype": "text/x-python",
   "name": "python",
   "nbconvert_exporter": "python",
   "pygments_lexer": "ipython3",
   "version": "3.5.2"
  }
 },
 "nbformat": 4,
 "nbformat_minor": 2
}
