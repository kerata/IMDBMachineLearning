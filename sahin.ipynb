{
 "cells": [
  {
   "cell_type": "markdown",
   "metadata": {},
   "source": [
    "# IMDB Movie Analysis"
   ]
  },
  {
   "cell_type": "code",
   "execution_count": null,
   "metadata": {},
   "outputs": [],
   "source": [
    "%matplotlib inline\n",
    "import numpy as np\n",
    "import pandas as pd\n",
    "import seaborn as sns\n",
    "import matplotlib.pyplot as plt\n",
    "from sklearn.cluster import KMeans\n",
    "from sklearn.model_selection import train_test_split\n",
    "\n",
    "sns.set(color_codes=True)\n",
    "sns.set(style=\"ticks\")\n",
    "\n",
    "data_frame_base = pd.read_csv(\"movie_metadata.csv\")\n",
    "data_frame_base = data_frame_base.drop('plot_keywords',1) ## PLOT_KEYWORDS COLUMN IS EXCLUDED\n",
    "\n",
    "#data_frame.head()"
   ]
  },
  {
   "cell_type": "markdown",
   "metadata": {},
   "source": [
    "temp_col1 = data_frame_base['imdb_score']\n",
    "temp_col2 = data_frame_base['gross']\n",
    "\n",
    "temp1 = np.argwhere(np.isnan(temp_col1))\n",
    "temp2 = np.argwhere(np.isnan(temp_col2))\n",
    "    \n",
    "print(list(data_frame_base))\n",
    "print(temp1)\n",
    "print(temp_col2)"
   ]
  },
  {
   "cell_type": "code",
   "execution_count": null,
   "metadata": {},
   "outputs": [],
   "source": [
    "data_frame = data_frame_base\n",
    "\n",
    "from sklearn.preprocessing import MultiLabelBinarizer\n",
    "from sklearn.preprocessing import LabelEncoder\n",
    "\n",
    "for column_name in data_frame.columns:\n",
    "    le = LabelEncoder()\n",
    "    column = data_frame[column_name]\n",
    "    normalized_column = column.fillna(0) if column.dtype.kind in 'biufc' else column.fillna('UNKNOWN')\n",
    "    class_values = normalized_column if column.dtype.kind in 'biufc' else pd.Series(list(le.fit_transform(normalized_column))) \n",
    "    data_frame[column_name].update(class_values)\n",
    "        "
   ]
  },
  {
   "cell_type": "code",
   "execution_count": null,
   "metadata": {},
   "outputs": [],
   "source": [
    "g = sns.jointplot('gross', 'imdb_score', size=12, data=data_frame, kind=\"scatter\", color=\"#10275F\")\n",
    "plt.subplots_adjust(top=0.95)\n",
    "g.fig.suptitle('KDE of Imdb_Score and Gross', size=20, weight='bold')"
   ]
  },
  {
   "cell_type": "code",
   "execution_count": null,
   "metadata": {
    "collapsed": true
   },
   "outputs": [],
   "source": []
  }
 ],
 "metadata": {
  "language_info": {
   "name": "python",
   "pygments_lexer": "ipython3"
  }
 },
 "nbformat": 4,
 "nbformat_minor": 2
}
