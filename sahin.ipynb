{
 "cells": [
  {
   "cell_type": "markdown",
   "metadata": {},
   "source": [
    "# IMDB Movie Analysis"
   ]
  },
  {
   "cell_type": "code",
   "execution_count": null,
   "metadata": {
    "collapsed": true
   },
   "outputs": [],
   "source": [
    "%matplotlib inline\n",
    "import numpy as np\n",
    "import pandas as pd\n",
    "import seaborn as sns\n",
    "import matplotlib.pyplot as plt\n",
    "\n",
    "from sklearn.cluster import KMeans\n",
    "from sklearn.model_selection import train_test_split\n",
    "\n",
    "from sklearn.metrics import explained_variance_score\n",
    "from sklearn.metrics import mean_squared_error\n",
    "\n",
    "from sklearn.metrics import precision_score\n",
    "from sklearn.metrics import classification_report\n",
    "from sklearn.metrics import confusion_matrix\n",
    "from sklearn.metrics import accuracy_score\n",
    "\n",
    "sns.set(color_codes=True)\n",
    "sns.set(style=\"ticks\")\n",
    "\n",
    "data_frame_base = pd.read_csv(\"movie_metadata.csv\")\n",
    "data_frame_base = data_frame_base.drop('plot_keywords',1)\n",
    "data_frame_base = data_frame_base.drop('genres',1)\n",
    "data_frame_base = data_frame_base.drop('movie_imdb_link', 1)\n",
    "data_frame_base = data_frame_base.drop('movie_title',1)\n",
    "#data_frame_base.head()"
   ]
  },
  {
   "cell_type": "markdown",
   "metadata": {},
   "source": [
    "## Imdb Score Limit and Imdb Score Classes For Classification"
   ]
  },
  {
   "cell_type": "code",
   "execution_count": null,
   "metadata": {
    "collapsed": true
   },
   "outputs": [],
   "source": [
    "imdb_score_limit = 7.5\n",
    "\n",
    "data_frame_base['imdb_score_class'] = data_frame_base['imdb_score'].copy()\n",
    "\n",
    "data_frame_base.loc[data_frame_base['imdb_score_class'] < imdb_score_limit, 'imdb_score_class'] = 0\n",
    "data_frame_base.loc[data_frame_base['imdb_score_class'] >= imdb_score_limit, 'imdb_score_class'] = 1\n"
   ]
  },
  {
   "cell_type": "markdown",
   "metadata": {},
   "source": [
    "## Preprocessing"
   ]
  },
  {
   "cell_type": "code",
   "execution_count": null,
   "metadata": {},
   "outputs": [],
   "source": [
    "data_frame = data_frame_base.copy()\n",
    "\n",
    "from sklearn.preprocessing import MultiLabelBinarizer\n",
    "from sklearn.preprocessing import LabelEncoder\n",
    "from sklearn.preprocessing import StandardScaler\n",
    "\n",
    "\n",
    "for column_name in data_frame.columns:\n",
    "    if column_name == 'imdb_score': continue\n",
    "    if column_name == 'imdb_score_class': continue\n",
    "    \n",
    "    le = LabelEncoder()\n",
    "    scaler = StandardScaler()\n",
    "    \n",
    "    column = data_frame[column_name]\n",
    "    normalized_column = column.fillna(0) if column.dtype.kind in 'biufc' else column.fillna('UNKNOWN')\n",
    "    \n",
    "    if (column.dtype.kind in 'biufc'): \n",
    "        normalized_column = normalized_column.astype(float)\n",
    "        normalized_column = scaler.fit_transform(normalized_column.values.reshape(-1,1))\n",
    "        class_values = pd.Series(list(scaler.fit_transform(normalized_column))) \n",
    "        data_frame[column_name].update(class_values)\n",
    "        \n",
    "        #class_values = normalized_column\n",
    "        #data_frame[column_name].update(class_values)\n",
    "    else: \n",
    "        normalized_column = pd.Series(list(le.fit_transform(normalized_column))) \n",
    "        normalized_column = normalized_column.astype(float)\n",
    "        normalized_column = scaler.fit_transform(normalized_column.values.reshape(-1,1))\n",
    "        class_values = pd.Series(list(scaler.fit_transform(normalized_column))) \n",
    "        data_frame[column_name].update(class_values)\n",
    "        \n",
    "        #class_values = pd.Series(list(le.fit_transform(normalized_column))) \n",
    "        #data_frame[column_name].update(class_values)\n",
    "\n",
    "        "
   ]
  },
  {
   "cell_type": "markdown",
   "metadata": {},
   "source": [
    "## Training and Test Sets"
   ]
  },
  {
   "cell_type": "code",
   "execution_count": null,
   "metadata": {},
   "outputs": [],
   "source": [
    "data_frame_temp = data_frame.copy()\n",
    "class0 = data_frame_temp[data_frame_temp['imdb_score_class']==0]\n",
    "class1 = data_frame_temp[data_frame_temp['imdb_score_class']==1]\n",
    "train0, test0, ign1, ign2 = train_test_split(class0,class0['imdb_score'], test_size=0.4)\n",
    "train1, test1, ign1, ign2 = train_test_split(class1,class1['imdb_score'], test_size=0.4)\n",
    "train = pd.concat([train0,train1])\n",
    "test = pd.concat([test0,test1])"
   ]
  },
  {
   "cell_type": "markdown",
   "metadata": {},
   "source": [
    "-------------------------------------------------------------------\n",
    "#### DATA PREPARATION IS FINISHED\n",
    "#### APPLY ML METHODS\n",
    "------------------------------------------------------------------------------------"
   ]
  },
  {
   "cell_type": "markdown",
   "metadata": {},
   "source": [
    "## SVM Classification"
   ]
  },
  {
   "cell_type": "code",
   "execution_count": null,
   "metadata": {},
   "outputs": [],
   "source": [
    "features_svc = data_frame.columns\n",
    "features_svc = features_svc[features_svc != 'imdb_score']\n",
    "features_svc = features_svc[features_svc != 'imdb_score_class']\n",
    "r_svc_feature = 'imdb_score_class'\n",
    "\n",
    "train_svc_A = np.array(train[features_svc])\n",
    "train_svc_R = np.array(train[r_svc_feature])\n",
    "test_svc_A = np.array(test[features_svc])\n",
    "test_svc_R = np.array(test[r_svc_feature])"
   ]
  },
  {
   "cell_type": "markdown",
   "metadata": {},
   "source": [
    "##### Tuning Hyperparameters C and gamma"
   ]
  },
  {
   "cell_type": "code",
   "execution_count": null,
   "metadata": {},
   "outputs": [],
   "source": [
    "from sklearn.model_selection import StratifiedShuffleSplit\n",
    "from sklearn.model_selection import GridSearchCV\n",
    "from sklearn.svm import SVC\n",
    "\n",
    "C_range = [0.1] #np.logspace(-1, 1, 3)\n",
    "gamma_range = [0.1] #np.logspace(-1, 1, 3)\n",
    "param_grid = dict(gamma=gamma_range, C=C_range)\n",
    "cv = StratifiedShuffleSplit(n_splits=5, test_size=0.2, random_state=42)\n",
    "grid = GridSearchCV(SVC(), param_grid=param_grid, cv=cv)\n",
    "grid.fit(train_svc_A, train_svc_R)\n",
    "\n",
    "print(\"The best parameters are %s with a score of %0.2f\" % (grid.best_params_, grid.best_score_))"
   ]
  },
  {
   "cell_type": "code",
   "execution_count": null,
   "metadata": {},
   "outputs": [],
   "source": [
    "\n",
    "from sklearn.svm import SVC\n",
    "svc_func = SVC(kernel='rbf',C=14,gamma = 0.012)\n",
    "svc_func.fit(train_svc_A,train_svc_R)\n",
    "y_svc = svc_func.predict(test_svc_A)\n",
    "\n",
    "print(classification_report(test_svc_R,y_svc))\n",
    "print(confusion_matrix(test_svc_R,y_svc))"
   ]
  },
  {
   "cell_type": "markdown",
   "metadata": {},
   "source": [
    "## SVM Regression"
   ]
  },
  {
   "cell_type": "code",
   "execution_count": null,
   "metadata": {},
   "outputs": [],
   "source": [
    "features_svr = data_frame.columns\n",
    "features_svr = features_svr[features_svr != 'imdb_score']\n",
    "features_svr = features_svr[features_svr != 'imdb_score_class']\n",
    "r_svr_feature = 'imdb_score'\n",
    "\n",
    "train_svr_A = np.array(train[features_svr])\n",
    "train_svr_R = np.array(train[r_svr_feature])\n",
    "test_svr_A = np.array(test[features_svr])\n",
    "test_svr_R = np.array(test[r_svr_feature])\n"
   ]
  },
  {
   "cell_type": "markdown",
   "metadata": {},
   "source": [
    "##### Tuning Hyperparameters C and gamma"
   ]
  },
  {
   "cell_type": "raw",
   "metadata": {},
   "source": [
    "from sklearn.model_selection import GridSearchCV\n",
    "from sklearn.svm import SVR\n",
    "\n",
    "C_range = [130,140,150] #np.logspace(-1, 1, 3)\n",
    "gamma_range = [0.001, 0.002,0.004] #np.logspace(-1, 1, 3)\n",
    "param_grid = dict(gamma=gamma_range, C=C_range)\n",
    "\n",
    "grid = GridSearchCV(SVR(epsilon=1e-3), param_grid=param_grid, cv=5)\n",
    "grid.fit(train_svr_A, train_svr_R)\n",
    "\n",
    "print(\"The best parameters are %s with a score of %0.2f\" % (grid.best_params_, grid.best_score_))"
   ]
  },
  {
   "cell_type": "code",
   "execution_count": null,
   "metadata": {},
   "outputs": [],
   "source": [
    "\n",
    "from sklearn.svm import SVR\n",
    "svr_func= SVR(C=150,gamma=0.004,epsilon=1e-4)\n",
    "svr_func.fit(train_svr_A,train_svr_R)\n",
    "y_svr = svr_func.predict(test_svr_A)\n",
    "\n",
    "print(y_svr)\n",
    "print(test_svr_R)\n",
    "print(len(y_svr[y_svr>=7.5]))\n",
    "print(\"Explained variance score : \"+ str(explained_variance_score(test_svr_R, y_svr)))\n",
    "print(\"Mean squared error : \"+str(mean_squared_error(test_svr_R, y_svr)))\n",
    "\n",
    "margin = 0.4\n",
    "y_svr_margined = [(1 if np.abs(x-y) > margin else 0) for x,y in zip(test_svr_R, y_svr)]\n",
    "print(\"Prediction is in margin or not error : \"+ str(np.sum(y_svr_margined)/len(test_svr_R)))\n",
    "\n",
    "\n",
    "# SVM classification from regression result - it is almost identical with SVM classification\n",
    "#limit = 7.5\n",
    "#test_svr_R_limited = [(1 if x >= limit else 0) for x in test_svr_R]\n",
    "#y_svr_limited = [(1 if x >= limit else 0) for x in y_svr]\n",
    "#print(classification_report(test_svr_R_limited,y_svr_limited))\n",
    "#print(confusion_matrix(test_svr_R_limited,y_svr_limited))\n",
    "#print(accuracy_score(test_svr_R_limited,y_svr_limited))"
   ]
  }
 ],
 "metadata": {
  "language_info": {
   "name": "python",
   "pygments_lexer": "ipython3"
  }
 },
 "nbformat": 4,
 "nbformat_minor": 2
}
