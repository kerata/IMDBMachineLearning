{
 "cells": [
  {
   "cell_type": "markdown",
   "metadata": {},
   "source": [
    "# IMDB Movie Analysis"
   ]
  },
  {
   "cell_type": "code",
   "execution_count": null,
   "metadata": {
    "collapsed": true
   },
   "outputs": [],
   "source": [
    "%matplotlib inline\n",
    "import numpy as np\n",
    "import pandas as pd\n",
    "import seaborn as sns\n",
    "import matplotlib.pyplot as plt\n",
    "from sklearn.cluster import KMeans\n",
    "from sklearn.model_selection import train_test_split\n",
    "\n",
    "sns.set(color_codes=True)\n",
    "sns.set(style=\"ticks\")\n",
    "\n",
    "data_frame = pd.read_csv(\"movie_metadata.csv\")\n",
    "data_frame.head()"
   ]
  },
  {
   "cell_type": "code",
   "execution_count": null,
   "metadata": {
    "collapsed": true
   },
   "outputs": [],
   "source": [
    "from sklearn.preprocessing import MultiLabelBinarizer\n",
    "from sklearn.preprocessing import LabelEncoder\n",
    "\n",
    "for column_name in data_frame.columns:\n",
    "    le = LabelEncoder()\n",
    "    column = data_frame[column_name]\n",
    "    if column_name == 'plot_keywords':\n",
    "        mlb = MultiLabelBinarizer()\n",
    "        keywords = list()\n",
    "        column.fillna('UNKNOWN')\n",
    "        column.apply(lambda x: keywords.append(x.split('|')) if x is not np.nan else keywords.append(['UNKNOWN']))\n",
    "        binarized = mlb.fit_transform(keywords)\n",
    "        plt.imshow(binarized)\n",
    "        class_values = pd.Series(list(binarized))\n",
    "        data_frame[column_name].update(class_values)\n",
    "    else:\n",
    "        normalized_column = column.fillna(0) if column.dtype.kind in 'biufc' else column.fillna('UNKNOWN')\n",
    "\n",
    "        class_values = pd.Series(list(le.fit_transform(normalized_column)))\n",
    "        data_frame[column_name].update(class_values)\n",
    "\n",
    "data_frame.head()"
   ]
  },
  {
   "cell_type": "code",
   "execution_count": null,
   "metadata": {
    "collapsed": true
   },
   "outputs": [],
   "source": [
    "# Figures for representing some features\n",
    "sns.set(font_scale = 2)\n",
    "g = sns.jointplot('gross', 'imdb_score', size=12, data=data_frame, kind=\"kde\", color=\"#10275F\")\n",
    "plt.subplots_adjust(top=0.95)\n",
    "g.fig.suptitle('KDE of Imdb_Score and Gross', size=20, weight='bold')\n",
    "sns.set(font_scale = 1)\n",
    "# This is different from the kaggle kernel result(as in shape)"
   ]
  },
  {
   "cell_type": "code",
   "execution_count": null,
   "metadata": {
    "collapsed": true
   },
   "outputs": [],
   "source": [
    "# Showing the pearson correlation of features\n",
    "with sns.plotting_context(font_scale=1.25):\n",
    "    f, ax = plt.subplots(figsize=(20, 20))\n",
    "    plt.title('Pearson Correlation of Movie Features', {'weight': 'bold', 'size': 20})\n",
    "    # plot_keywords features are encoded as array which requires more care to plot in this way\n",
    "    new_dataframe = data_frame.drop('plot_keywords', axis=1)\n",
    "    sns.heatmap(new_dataframe.astype(float).corr(), linewidths=0.25, vmax=1.0, square=True, annot=True)"
   ]
  },
  {
   "cell_type": "code",
   "execution_count": null,
   "metadata": {
    "collapsed": true
   },
   "outputs": [],
   "source": []
  }
 ],
 "metadata": {
  "kernelspec": {
   "display_name": "Python 3",
   "language": "python",
   "name": "python3"
  },
  "language_info": {
   "codemirror_mode": {
    "name": "ipython",
    "version": 3
   },
   "file_extension": ".py",
   "mimetype": "text/x-python",
   "name": "python",
   "nbconvert_exporter": "python",
   "pygments_lexer": "ipython3",
   "version": "3.5.2"
  }
 },
 "nbformat": 4,
 "nbformat_minor": 2
}
