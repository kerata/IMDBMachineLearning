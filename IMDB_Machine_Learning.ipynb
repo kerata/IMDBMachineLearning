{
 "cells": [
  {
   "cell_type": "markdown",
   "metadata": {},
   "source": [
    "# IMDB Movie Analysis"
   ]
  },
  {
   "cell_type": "code",
   "execution_count": null,
   "metadata": {},
   "outputs": [],
   "source": [
    "%matplotlib inline\n",
    "import numpy as np\n",
    "import pandas as pd\n",
    "import seaborn as sns\n",
    "import matplotlib.pyplot as plt\n",
    "from sklearn.cluster import KMeans\n",
    "from sklearn.model_selection import train_test_split\n",
    "\n",
    "sns.set(color_codes=True)\n",
    "sns.set(style=\"ticks\")\n",
    "\n",
    "data_frame = pd.read_csv(\"movie_metadata.csv\")\n",
    "data_frame.head()"
   ]
  },
  {
   "cell_type": "code",
   "execution_count": null,
   "metadata": {},
   "outputs": [],
   "source": [
    "# process features with string entries\n",
    "header_names_containing_strings = []\n",
    "for colname, colvalue in data_frame.iteritems():\n",
    "    if type(colvalue[1]) == str:\n",
    "         header_names_containing_strings.append(colname)\n",
    "\n",
    "numeric_features = data_frame.columns.difference(header_names_containing_strings)\n",
    "data_frame = data_frame[numeric_features]\n",
    "#del movie # Get rid of movie df as we won't need it now\n",
    "data_frame.head()"
   ]
  },
  {
   "cell_type": "code",
   "execution_count": null,
   "metadata": {},
   "outputs": [],
   "source": [
    "# filling unknown values with zeroes, these values could also be predicted...\n",
    "data_frame = data_frame.fillna(value=0, axis=1)\n",
    "data_frame.head()"
   ]
  },
  {
   "cell_type": "code",
   "execution_count": null,
   "metadata": {},
   "outputs": [],
   "source": [
    "# Figures for representing some features\n",
    "sns.set(font_scale = 2)\n",
    "g = sns.jointplot('gross', 'imdb_score', size=12, data=data_frame, kind=\"kde\", color=\"#10275F\")\n",
    "plt.subplots_adjust(top=0.95)\n",
    "g.fig.suptitle('KDE of Imdb_Score and Gross', size=20, weight='bold')\n",
    "sns.set(font_scale = 1)"
   ]
  },
  {
   "cell_type": "code",
   "execution_count": null,
   "metadata": {},
   "outputs": [],
   "source": [
    "# Showing the pearson correlation of features\n",
    "with sns.plotting_context(font_scale=1.25):\n",
    "    f, ax = plt.subplots(figsize=(12, 12))\n",
    "    plt.title('Pearson Correlation of Movie Features', {'weight': 'bold', 'size': 20})\n",
    "    sns.heatmap(data_frame.astype(float).corr(), linewidths=0.25, vmax=1.0, square=True, annot=True)"
   ]
  },
  {
   "cell_type": "code",
   "execution_count": null,
   "metadata": {
    "collapsed": true
   },
   "outputs": [],
   "source": []
  }
 ],
 "metadata": {
  "language_info": {
   "name": "python",
   "pygments_lexer": "ipython3"
  }
 },
 "nbformat": 4,
 "nbformat_minor": 2
}
